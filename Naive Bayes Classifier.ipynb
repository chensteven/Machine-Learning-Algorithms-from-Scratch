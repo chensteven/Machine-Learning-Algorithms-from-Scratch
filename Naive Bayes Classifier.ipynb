{
 "cells": [
  {
   "cell_type": "markdown",
   "metadata": {},
   "source": [
    "# EECS4404 Assignment #1 - Naive Bayes"
   ]
  },
  {
   "cell_type": "markdown",
   "metadata": {},
   "source": [
    "## Step 0: Download and load the data."
   ]
  },
  {
   "cell_type": "code",
   "execution_count": 1,
   "metadata": {
    "collapsed": false
   },
   "outputs": [
    {
     "name": "stdout",
     "output_type": "stream",
     "text": [
      "Populating the interactive namespace from numpy and matplotlib\n"
     ]
    }
   ],
   "source": [
    "import numpy as np\n",
    "import csv\n",
    "from collections import OrderedDict\n",
    "import matplotlib.pyplot as plt\n",
    "import matplotlib.patches as mpatches\n",
    "\n",
    "%pylab inline\n",
    "\n",
    "filename = 'mushrooms.csv'\n",
    "with open(filename, 'rb') as raw_file:\n",
    "    raw_data = csv.reader(raw_file, delimiter=',', quoting=csv.QUOTE_NONE)\n",
    "    data_list = list(raw_data)\n",
    "\n",
    "ndims = len(data_list[0])\n",
    "npts = len(data_list)\n",
    "\n",
    "char_maps = [OrderedDict() for i in range(ndims)]\n",
    "reverse_maps = [[] for i in range(ndims)]\n",
    "data_mat = empty((npts,ndims),dtype=int32)\n",
    "for i,cdata in enumerate(data_list):\n",
    "    for j,cstr in enumerate(cdata):\n",
    "        if cstr not in char_maps[j]:\n",
    "            char_maps[j][cstr] = len(char_maps[j])\n",
    "            reverse_maps[j].append(cstr)\n",
    "        data_mat[i,j] = char_maps[j][cstr]\n",
    "\n",
    "random.seed(0)\n",
    "data_perm = random.permutation(npts)\n",
    "data_train = data_mat[data_perm[0:(8*npts/10)],:] # length is 6499\n",
    "data_test = data_mat[data_perm[(8*npts/10):],:] # length is 1625\n",
    "data_ranges = data_mat[:,1:].max(axis=0) # removes the first column of E or P\n",
    "data_ranges_inc = data_mat[:,:].max(axis=0)\n",
    "data_train_t = data_train.transpose()"
   ]
  },
  {
   "cell_type": "code",
   "execution_count": 2,
   "metadata": {
    "collapsed": false
   },
   "outputs": [],
   "source": [
    "edible_shrooms = np.array([i for i in data_train if i[0] == 1])\n",
    "poisonous_shrooms = np.array([i for i in data_train if i[0] == 0])\n",
    "edible_shrooms_t = edible_shrooms.transpose()\n",
    "poisonous_shrooms_t = poisonous_shrooms.transpose()"
   ]
  },
  {
   "cell_type": "code",
   "execution_count": 3,
   "metadata": {
    "collapsed": false
   },
   "outputs": [
    {
     "name": "stdout",
     "output_type": "stream",
     "text": [
      "0.517771964918\n"
     ]
    }
   ],
   "source": [
    "frac_of_edible = float(len(edible_shrooms)) / len(data_train)\n",
    "print frac_of_edible"
   ]
  },
  {
   "cell_type": "code",
   "execution_count": 4,
   "metadata": {
    "collapsed": false
   },
   "outputs": [
    {
     "name": "stdout",
     "output_type": "stream",
     "text": [
      "0.482228035082\n"
     ]
    }
   ],
   "source": [
    "frac_of_poisonous = float(len(poisonous_shrooms)) / len(data_train)\n",
    "print frac_of_poisonous"
   ]
  },
  {
   "cell_type": "markdown",
   "metadata": {},
   "source": [
    "## Step 1: Analyze the data."
   ]
  },
  {
   "cell_type": "markdown",
   "metadata": {},
   "source": [
    "### f1: cap-shape"
   ]
  },
  {
   "cell_type": "code",
   "execution_count": 11,
   "metadata": {
    "collapsed": false
   },
   "outputs": [
    {
     "data": {
      "text/plain": [
       "(-0.5, 5.5)"
      ]
     },
     "execution_count": 11,
     "metadata": {},
     "output_type": "execute_result"
    },
    {
     "data": {
      "image/png": "[encoded data removed]",
      "text/plain": [
       "<matplotlib.figure.Figure at 0x11027a4d0>"
      ]
     },
     "metadata": {},
     "output_type": "display_data"
    }
   ],
   "source": [
    "plt.hist(edible_shrooms_t[1], normed=1, align=\"left\", bins=int(data_ranges[0]))\n",
    "plt.xlim([-0.5, 5.5])"
   ]
  },
  {
   "cell_type": "code",
   "execution_count": 5,
   "metadata": {
    "collapsed": false,
    "scrolled": true
   },
   "outputs": [
    {
     "data": {
      "text/plain": [
       "<matplotlib.text.Text at 0x10f74dc90>"
      ]
     },
     "execution_count": 5,
     "metadata": {},
     "output_type": "execute_result"
    },
    {
     "data": {
      "image/png": "[encoded data removed]",
      "text/plain": [
       "<matplotlib.figure.Figure at 0x10d01d590>"
      ]
     },
     "metadata": {},
     "output_type": "display_data"
    }
   ],
   "source": [
    "plt.figure(figsize=(15,5))\n",
    "plt.subplot(121)\n",
    "plt.hist(edible_shrooms_t[1], bins=int(data_ranges[0]), normed=1, align=\"left\")\n",
    "plt.xlim([-0.5,4.5])\n",
    "plt.title('feature 1 - edible')\n",
    "plt.subplot(122)\n",
    "plt.hist(poisonous_shrooms_t[1], bins=int(data_ranges[0]), normed=1, align=\"left\")\n",
    "plt.xlim([-0.5,4.5])\n",
    "plt.title('feature 1 - poisonous')"
   ]
  },
  {
   "cell_type": "markdown",
   "metadata": {},
   "source": [
    "### f2: cap-surface"
   ]
  },
  {
   "cell_type": "code",
   "execution_count": 6,
   "metadata": {
    "collapsed": false
   },
   "outputs": [
    {
     "data": {
      "text/plain": [
       "<matplotlib.text.Text at 0x10ff24d50>"
      ]
     },
     "execution_count": 6,
     "metadata": {},
     "output_type": "execute_result"
    },
    {
     "data": {
      "image/png": "[encoded data removed]",
      "text/plain": [
       "<matplotlib.figure.Figure at 0x10f9a1e90>"
      ]
     },
     "metadata": {},
     "output_type": "display_data"
    }
   ],
   "source": [
    "plt.figure(figsize=(15,5))\n",
    "plt.subplot(121)\n",
    "plt.hist(edible_shrooms_t[2], bins=int(data_ranges[1]), normed=1, align=\"left\")\n",
    "plt.xlim([-0.5,2.5])\n",
    "plt.title('feature 2 - edible')\n",
    "plt.subplot(122)\n",
    "plt.hist(poisonous_shrooms_t[2], bins=int(data_ranges[1]), normed=1, align=\"left\")\n",
    "plt.xlim([-0.5,2.5])\n",
    "plt.title('feature 2 - poisonous')"
   ]
  },
  {
   "cell_type": "markdown",
   "metadata": {},
   "source": [
    "### f3: cap-color"
   ]
  },
  {
   "cell_type": "code",
   "execution_count": 7,
   "metadata": {
    "collapsed": false,
    "scrolled": true
   },
   "outputs": [
    {
     "data": {
      "text/plain": [
       "<matplotlib.text.Text at 0x1103de610>"
      ]
     },
     "execution_count": 7,
     "metadata": {},
     "output_type": "execute_result"
    },
    {
     "data": {
      "image/png": "[encoded data removed]",
      "text/plain": [
       "<matplotlib.figure.Figure at 0x110177610>"
      ]
     },
     "metadata": {},
     "output_type": "display_data"
    }
   ],
   "source": [
    "plt.figure(figsize=(15,5))\n",
    "plt.subplot(121)\n",
    "plt.hist(edible_shrooms_t[3], bins=int(data_ranges[2]), normed=1, align=\"left\")\n",
    "plt.xlim([-0.5,8.5])\n",
    "plt.title('feature 3 - edible')\n",
    "plt.subplot(122)\n",
    "plt.hist(poisonous_shrooms_t[3], bins=int(data_ranges[2]), normed=1, align=\"left\")\n",
    "plt.xlim([-0.5,8.5])\n",
    "plt.title('feature 3 - poisonous')"
   ]
  },
  {
   "cell_type": "markdown",
   "metadata": {},
   "source": [
    "### f4: bruises"
   ]
  },
  {
   "cell_type": "code",
   "execution_count": 8,
   "metadata": {
    "collapsed": false,
    "scrolled": true
   },
   "outputs": [
    {
     "data": {
      "text/plain": [
       "<matplotlib.text.Text at 0x110876450>"
      ]
     },
     "execution_count": 8,
     "metadata": {},
     "output_type": "execute_result"
    },
    {
     "data": {
      "image/png": "[encoded data removed]",
      "text/plain": [
       "<matplotlib.figure.Figure at 0x110644d90>"
      ]
     },
     "metadata": {},
     "output_type": "display_data"
    }
   ],
   "source": [
    "plt.figure(figsize=(15,5))\n",
    "plt.subplot(121)\n",
    "plt.hist(edible_shrooms_t[4],bins=int(data_ranges[3]),normed=1, align=\"left\")\n",
    "plt.xlim([-0.5,2.5])\n",
    "plt.title('feature 4 - edible')\n",
    "plt.subplot(122)\n",
    "plt.hist(poisonous_shrooms_t[4],bins=int(data_ranges[3]),normed=1, align=\"left\")\n",
    "plt.xlim([-0.5,2.5])\n",
    "plt.title('feature 4 - poisonous')"
   ]
  },
  {
   "cell_type": "markdown",
   "metadata": {},
   "source": [
    "### f5: odor"
   ]
  },
  {
   "cell_type": "code",
   "execution_count": 9,
   "metadata": {
    "collapsed": false,
    "scrolled": true
   },
   "outputs": [
    {
     "data": {
      "text/plain": [
       "<matplotlib.text.Text at 0x110bb27d0>"
      ]
     },
     "execution_count": 9,
     "metadata": {},
     "output_type": "execute_result"
    },
    {
     "data": {
      "image/png": "[encoded data removed]",
      "text/plain": [
       "<matplotlib.figure.Figure at 0x110a9de10>"
      ]
     },
     "metadata": {},
     "output_type": "display_data"
    }
   ],
   "source": [
    "plt.figure(figsize=(15,5))\n",
    "plt.subplot(121)\n",
    "plt.hist(edible_shrooms_t[5],bins=int(data_ranges[4]),normed=1, align=\"left\")\n",
    "plt.xlim([-0.5,7.5])\n",
    "plt.title('feature 5 - edible')\n",
    "plt.subplot(122)\n",
    "plt.hist(poisonous_shrooms_t[5],bins=int(data_ranges[4]),normed=1, align=\"left\")\n",
    "plt.xlim([-0.5,7.5])\n",
    "plt.title('feature 5 - poisonous')"
   ]
  },
  {
   "cell_type": "markdown",
   "metadata": {},
   "source": [
    "### f6: gill-attachment"
   ]
  },
  {
   "cell_type": "code",
   "execution_count": 10,
   "metadata": {
    "collapsed": false
   },
   "outputs": [
    {
     "data": {
      "text/plain": [
       "<matplotlib.text.Text at 0x111035850>"
      ]
     },
     "execution_count": 10,
     "metadata": {},
     "output_type": "execute_result"
    },
    {
     "data": {
      "image/png": "[encoded data removed]",
      "text/plain": [
       "<matplotlib.figure.Figure at 0x110f74990>"
      ]
     },
     "metadata": {},
     "output_type": "display_data"
    }
   ],
   "source": [
    "plt.figure(figsize=(15,5))\n",
    "plt.subplot(121)\n",
    "plt.hist(edible_shrooms_t[6],bins=int(data_ranges[5]),normed=1, align=\"left\")\n",
    "plt.xlim([-0.5,1.5])\n",
    "plt.title('feature 6 - edible')\n",
    "plt.subplot(122)\n",
    "plt.hist(poisonous_shrooms_t[6],bins=int(data_ranges[5]),normed=1, align=\"left\")\n",
    "plt.xlim([-0.5,1.5])\n",
    "plt.title('feature 6 - poisonous')"
   ]
  },
  {
   "cell_type": "markdown",
   "metadata": {},
   "source": [
    "### f7: gill-spacing"
   ]
  },
  {
   "cell_type": "code",
   "execution_count": 11,
   "metadata": {
    "collapsed": false
   },
   "outputs": [
    {
     "data": {
      "text/plain": [
       "<matplotlib.text.Text at 0x11147fb10>"
      ]
     },
     "execution_count": 11,
     "metadata": {},
     "output_type": "execute_result"
    },
    {
     "data": {
      "image/png": "[encoded data removed]",
      "text/plain": [
       "<matplotlib.figure.Figure at 0x111035f50>"
      ]
     },
     "metadata": {},
     "output_type": "display_data"
    }
   ],
   "source": [
    "plt.figure(figsize=(15,5))\n",
    "plt.subplot(121)\n",
    "plt.hist(edible_shrooms_t[7],bins=int(data_ranges[6]),normed=1, align=\"left\")\n",
    "plt.xlim([-0.5,1.5])\n",
    "plt.title('feature 7 - edible')\n",
    "plt.subplot(122)\n",
    "plt.hist(poisonous_shrooms_t[7],bins=int(data_ranges[6]),normed=1, align=\"left\")\n",
    "plt.xlim([-0.5,1.5])\n",
    "plt.title('feature 7 - poisonous')"
   ]
  },
  {
   "cell_type": "markdown",
   "metadata": {},
   "source": [
    "### f8: gill-size"
   ]
  },
  {
   "cell_type": "code",
   "execution_count": 12,
   "metadata": {
    "collapsed": false,
    "scrolled": true
   },
   "outputs": [
    {
     "data": {
      "text/plain": [
       "<matplotlib.text.Text at 0x1117addd0>"
      ]
     },
     "execution_count": 12,
     "metadata": {},
     "output_type": "execute_result"
    },
    {
     "data": {
      "image/png": "[encoded data removed]",
      "text/plain": [
       "<matplotlib.figure.Figure at 0x110f74b10>"
      ]
     },
     "metadata": {},
     "output_type": "display_data"
    }
   ],
   "source": [
    "plt.figure(figsize=(15,5))\n",
    "plt.subplot(121)\n",
    "plt.hist(edible_shrooms_t[8],bins=int(data_ranges[7]),normed=1, align=\"left\")\n",
    "plt.xlim([-0.5,1.5])\n",
    "plt.title('feature 8 - edible')\n",
    "plt.subplot(122)\n",
    "plt.hist(poisonous_shrooms_t[8],bins=int(data_ranges[7]),normed=1, align=\"left\")\n",
    "plt.xlim([-0.5,1.5])\n",
    "plt.title('feature 8 - poisonous')"
   ]
  },
  {
   "cell_type": "markdown",
   "metadata": {},
   "source": [
    "### f9: gill-color"
   ]
  },
  {
   "cell_type": "code",
   "execution_count": 13,
   "metadata": {
    "collapsed": false,
    "scrolled": true
   },
   "outputs": [
    {
     "data": {
      "text/plain": [
       "<matplotlib.text.Text at 0x111c19d10>"
      ]
     },
     "execution_count": 13,
     "metadata": {},
     "output_type": "execute_result"
    },
    {
     "data": {
      "image/png": "[encoded data removed]",
      "text/plain": [
       "<matplotlib.figure.Figure at 0x111474e90>"
      ]
     },
     "metadata": {},
     "output_type": "display_data"
    }
   ],
   "source": [
    "plt.figure(figsize=(15,5))\n",
    "plt.subplot(121)\n",
    "plt.hist(edible_shrooms_t[9],bins=int(data_ranges[8]),normed=1, align=\"left\")\n",
    "plt.xlim([-0.5,10.5])\n",
    "plt.title('feature 9 - edible')\n",
    "plt.subplot(122)\n",
    "plt.hist(poisonous_shrooms_t[9],bins=int(data_ranges[8]),normed=1, align=\"left\")\n",
    "plt.xlim([-0.5,10.5])\n",
    "plt.title('feature 9 - poisonous')"
   ]
  },
  {
   "cell_type": "markdown",
   "metadata": {},
   "source": [
    "### f10: stalk-shape"
   ]
  },
  {
   "cell_type": "code",
   "execution_count": 14,
   "metadata": {
    "collapsed": false
   },
   "outputs": [
    {
     "data": {
      "text/plain": [
       "<matplotlib.text.Text at 0x111f893d0>"
      ]
     },
     "execution_count": 14,
     "metadata": {},
     "output_type": "execute_result"
    },
    {
     "data": {
      "image/png": "[encoded data removed]",
      "text/plain": [
       "<matplotlib.figure.Figure at 0x111cac410>"
      ]
     },
     "metadata": {},
     "output_type": "display_data"
    }
   ],
   "source": [
    "plt.figure(figsize=(15,5))\n",
    "plt.subplot(121)\n",
    "plt.hist(edible_shrooms_t[10],bins=int(data_ranges[9]),normed=1, align=\"left\")\n",
    "plt.xlim([-0.5,1.5])\n",
    "plt.title('feature 10 - edible')\n",
    "plt.subplot(122)\n",
    "plt.hist(poisonous_shrooms_t[10],bins=int(data_ranges[9]),normed=1, align=\"left\")\n",
    "plt.xlim([-0.5,1.5])\n",
    "plt.title('feature 10 - poisonous')"
   ]
  },
  {
   "cell_type": "markdown",
   "metadata": {},
   "source": [
    "### f11: stalk-root"
   ]
  },
  {
   "cell_type": "code",
   "execution_count": 15,
   "metadata": {
    "collapsed": false
   },
   "outputs": [
    {
     "data": {
      "text/plain": [
       "<matplotlib.text.Text at 0x1123bdf50>"
      ]
     },
     "execution_count": 15,
     "metadata": {},
     "output_type": "execute_result"
    },
    {
     "data": {
      "image/png": "[encoded data removed]",
      "text/plain": [
       "<matplotlib.figure.Figure at 0x1110ae090>"
      ]
     },
     "metadata": {},
     "output_type": "display_data"
    }
   ],
   "source": [
    "plt.figure(figsize=(15,5))\n",
    "plt.subplot(121)\n",
    "plt.hist(edible_shrooms_t[11],bins=int(data_ranges[10]),normed=1, align=\"left\")\n",
    "plt.xlim([-0.5,3.5])\n",
    "plt.title('feature 11 - edible')\n",
    "plt.subplot(122)\n",
    "plt.hist(poisonous_shrooms_t[11],bins=int(data_ranges[10]),normed=1, align=\"left\")\n",
    "plt.xlim([-0.5,3.5])\n",
    "plt.title('feature 11 - poisonous')"
   ]
  },
  {
   "cell_type": "markdown",
   "metadata": {},
   "source": [
    "### f12: stalk-surface-above-ring"
   ]
  },
  {
   "cell_type": "code",
   "execution_count": 16,
   "metadata": {
    "collapsed": false
   },
   "outputs": [
    {
     "data": {
      "text/plain": [
       "<matplotlib.text.Text at 0x112834f10>"
      ]
     },
     "execution_count": 16,
     "metadata": {},
     "output_type": "execute_result"
    },
    {
     "data": {
      "image/png": "[encoded data removed]",
      "text/plain": [
       "<matplotlib.figure.Figure at 0x112615ed0>"
      ]
     },
     "metadata": {},
     "output_type": "display_data"
    }
   ],
   "source": [
    "plt.figure(figsize=(15,5))\n",
    "plt.subplot(121)\n",
    "plt.hist(edible_shrooms_t[12],bins=int(data_ranges[11]),normed=1, align=\"left\")\n",
    "plt.xlim([-0.5,2.5])\n",
    "plt.title('feature 12 - edible')\n",
    "plt.subplot(122)\n",
    "plt.hist(poisonous_shrooms_t[12],bins=int(data_ranges[11]),normed=1, align=\"left\")\n",
    "plt.xlim([-0.5,2.5])\n",
    "plt.title('feature 12 - poisonous')"
   ]
  },
  {
   "cell_type": "markdown",
   "metadata": {},
   "source": [
    "### f13: stalk-surface-below-ring"
   ]
  },
  {
   "cell_type": "code",
   "execution_count": 17,
   "metadata": {
    "collapsed": false
   },
   "outputs": [
    {
     "data": {
      "text/plain": [
       "<matplotlib.text.Text at 0x112b99fd0>"
      ]
     },
     "execution_count": 17,
     "metadata": {},
     "output_type": "execute_result"
    },
    {
     "data": {
      "image/png": "[encoded data removed]",
      "text/plain": [
       "<matplotlib.figure.Figure at 0x112a63b10>"
      ]
     },
     "metadata": {},
     "output_type": "display_data"
    }
   ],
   "source": [
    "plt.figure(figsize=(15,5))\n",
    "plt.subplot(121)\n",
    "plt.hist(edible_shrooms_t[13],bins=int(data_ranges[12]),normed=1, align=\"left\")\n",
    "plt.xlim([-0.5,2.5])\n",
    "plt.title('feature 13 - edible')\n",
    "plt.subplot(122)\n",
    "plt.hist(poisonous_shrooms_t[13],bins=int(data_ranges[12]),normed=1, align=\"left\")\n",
    "plt.xlim([-0.5,2.5])\n",
    "plt.title('feature 13 - poisonous')"
   ]
  },
  {
   "cell_type": "markdown",
   "metadata": {},
   "source": [
    "### f14: stalk-color-above-ring"
   ]
  },
  {
   "cell_type": "code",
   "execution_count": 18,
   "metadata": {
    "collapsed": false
   },
   "outputs": [
    {
     "data": {
      "text/plain": [
       "<matplotlib.text.Text at 0x113230b10>"
      ]
     },
     "execution_count": 18,
     "metadata": {},
     "output_type": "execute_result"
    },
    {
     "data": {
      "image/png": "[encoded data removed]",
      "text/plain": [
       "<matplotlib.figure.Figure at 0x112bf5390>"
      ]
     },
     "metadata": {},
     "output_type": "display_data"
    }
   ],
   "source": [
    "plt.figure(figsize=(15,5))\n",
    "plt.subplot(121)\n",
    "plt.hist(edible_shrooms_t[14],bins=int(data_ranges[13]),normed=1, align=\"left\")\n",
    "plt.xlim([-0.5,7.5])\n",
    "plt.title('feature 14 - edible')\n",
    "plt.subplot(122)\n",
    "plt.hist(poisonous_shrooms_t[14],bins=int(data_ranges[13]),normed=1, align=\"left\")\n",
    "plt.xlim([-0.5,7.5])\n",
    "plt.title('feature 14 - poisonous')"
   ]
  },
  {
   "cell_type": "markdown",
   "metadata": {},
   "source": [
    "### f15: stalk-color-below-ring"
   ]
  },
  {
   "cell_type": "code",
   "execution_count": 19,
   "metadata": {
    "collapsed": false
   },
   "outputs": [
    {
     "data": {
      "text/plain": [
       "<matplotlib.text.Text at 0x1135e6810>"
      ]
     },
     "execution_count": 19,
     "metadata": {},
     "output_type": "execute_result"
    },
    {
     "data": {
      "image/png": "[encoded data removed]",
      "text/plain": [
       "<matplotlib.figure.Figure at 0x1134c2a10>"
      ]
     },
     "metadata": {},
     "output_type": "display_data"
    }
   ],
   "source": [
    "plt.figure(figsize=(15,5))\n",
    "plt.subplot(121)\n",
    "plt.hist(edible_shrooms_t[15],bins=int(data_ranges[14]),normed=1, align=\"left\")\n",
    "plt.xlim([-0.5,7.5])\n",
    "plt.title('feature 15 - edible')\n",
    "plt.subplot(122)\n",
    "plt.hist(poisonous_shrooms_t[15],bins=int(data_ranges[14]),normed=1, align=\"left\")\n",
    "plt.xlim([-0.5,7.5])\n",
    "plt.title('feature 15 - poisonous')"
   ]
  },
  {
   "cell_type": "markdown",
   "metadata": {},
   "source": [
    "### f16: veil-type"
   ]
  },
  {
   "cell_type": "code",
   "execution_count": 20,
   "metadata": {
    "collapsed": false
   },
   "outputs": [
    {
     "data": {
      "text/plain": [
       "<matplotlib.text.Text at 0x113922ed0>"
      ]
     },
     "execution_count": 20,
     "metadata": {},
     "output_type": "execute_result"
    },
    {
     "data": {
      "image/png": "[encoded data removed]",
      "text/plain": [
       "<matplotlib.figure.Figure at 0x113894d90>"
      ]
     },
     "metadata": {},
     "output_type": "display_data"
    }
   ],
   "source": [
    "plt.figure(figsize=(15,5))\n",
    "plt.subplot(121)\n",
    "plt.hist(edible_shrooms_t[16],normed=1, bins=int(data_ranges[15])+1, align=\"left\")\n",
    "plt.xlim([-0.5,1.5])\n",
    "plt.title('feature 16 - edible')\n",
    "plt.subplot(122)\n",
    "plt.hist(poisonous_shrooms_t[16],normed=1, bins=int(data_ranges[15])+1, align=\"left\")\n",
    "plt.xlim([-0.5,1.5])\n",
    "plt.title('feature 16 - poisonous')"
   ]
  },
  {
   "cell_type": "markdown",
   "metadata": {},
   "source": [
    "### f17: veil-color"
   ]
  },
  {
   "cell_type": "code",
   "execution_count": 21,
   "metadata": {
    "collapsed": false
   },
   "outputs": [
    {
     "data": {
      "text/plain": [
       "<matplotlib.text.Text at 0x113c7fc10>"
      ]
     },
     "execution_count": 21,
     "metadata": {},
     "output_type": "execute_result"
    },
    {
     "data": {
      "image/png": "[encoded data removed]",
      "text/plain": [
       "<matplotlib.figure.Figure at 0x113984290>"
      ]
     },
     "metadata": {},
     "output_type": "display_data"
    }
   ],
   "source": [
    "plt.figure(figsize=(15,5))\n",
    "plt.subplot(121)\n",
    "plt.hist(edible_shrooms_t[17],bins=int(data_ranges[16]),normed=1, align=\"left\")\n",
    "plt.xlim([-0.5,2.5])\n",
    "plt.title('feature 17 - edible')\n",
    "plt.subplot(122)\n",
    "plt.hist(poisonous_shrooms_t[17],bins=int(data_ranges[16]),normed=1, align=\"left\")\n",
    "plt.xlim([-0.5,2.5])\n",
    "plt.title('feature 17 - poisonous')"
   ]
  },
  {
   "cell_type": "markdown",
   "metadata": {},
   "source": [
    "### f18: ring-number"
   ]
  },
  {
   "cell_type": "code",
   "execution_count": 22,
   "metadata": {
    "collapsed": false
   },
   "outputs": [
    {
     "data": {
      "text/plain": [
       "<matplotlib.text.Text at 0x113f9a890>"
      ]
     },
     "execution_count": 22,
     "metadata": {},
     "output_type": "execute_result"
    },
    {
     "data": {
      "image/png": "[encoded data removed]",
      "text/plain": [
       "<matplotlib.figure.Figure at 0x113cd88d0>"
      ]
     },
     "metadata": {},
     "output_type": "display_data"
    }
   ],
   "source": [
    "plt.figure(figsize=(15,5))\n",
    "plt.subplot(121)\n",
    "plt.hist(edible_shrooms_t[18],bins=int(data_ranges[17]),normed=1, align=\"left\")\n",
    "plt.xlim([-0.5,1.5])\n",
    "plt.title('feature 18 - edible')\n",
    "plt.subplot(122)\n",
    "plt.hist(poisonous_shrooms_t[18],bins=int(data_ranges[17]),normed=1, align=\"left\")\n",
    "plt.xlim([-0.5,1.5])\n",
    "plt.title('feature 18 - poisonous')"
   ]
  },
  {
   "cell_type": "markdown",
   "metadata": {},
   "source": [
    "### f19: ring-type"
   ]
  },
  {
   "cell_type": "code",
   "execution_count": 23,
   "metadata": {
    "collapsed": false
   },
   "outputs": [
    {
     "data": {
      "text/plain": [
       "<matplotlib.text.Text at 0x11554e4d0>"
      ]
     },
     "execution_count": 23,
     "metadata": {},
     "output_type": "execute_result"
    },
    {
     "data": {
      "image/png": "[encoded data removed]",
      "text/plain": [
       "<matplotlib.figure.Figure at 0x11541f990>"
      ]
     },
     "metadata": {},
     "output_type": "display_data"
    }
   ],
   "source": [
    "plt.figure(figsize=(15,5))\n",
    "plt.subplot(121)\n",
    "plt.hist(edible_shrooms_t[19],bins=int(data_ranges[18]),normed=1, align=\"left\")\n",
    "plt.xlim([-0.5,3.5])\n",
    "plt.title('feature 19 - edible')\n",
    "plt.subplot(122)\n",
    "plt.hist(poisonous_shrooms_t[19],bins=int(data_ranges[18]),normed=1, align=\"left\")\n",
    "plt.xlim([-0.5,3.5])\n",
    "plt.title('feature 19 - poisonous')"
   ]
  },
  {
   "cell_type": "markdown",
   "metadata": {},
   "source": [
    "### f20: spore-print-color"
   ]
  },
  {
   "cell_type": "code",
   "execution_count": 24,
   "metadata": {
    "collapsed": false
   },
   "outputs": [
    {
     "data": {
      "text/plain": [
       "<matplotlib.text.Text at 0x115ad8f50>"
      ]
     },
     "execution_count": 24,
     "metadata": {},
     "output_type": "execute_result"
    },
    {
     "data": {
      "image/png": "[encoded data removed]",
      "text/plain": [
       "<matplotlib.figure.Figure at 0x1157c53d0>"
      ]
     },
     "metadata": {},
     "output_type": "display_data"
    }
   ],
   "source": [
    "plt.figure(figsize=(15,5))\n",
    "plt.subplot(121)\n",
    "plt.hist(edible_shrooms_t[20],bins=int(data_ranges[19]),normed=1, align=\"left\")\n",
    "plt.xlim([-0.5,7.5])\n",
    "plt.title('feature 20 - edible')\n",
    "plt.subplot(122)\n",
    "plt.hist(poisonous_shrooms_t[20],bins=int(data_ranges[19]),normed=1, align=\"left\")\n",
    "plt.xlim([-0.5,7.5])\n",
    "plt.title('feature 20 - poisonous')"
   ]
  },
  {
   "cell_type": "markdown",
   "metadata": {},
   "source": [
    "### f21: population"
   ]
  },
  {
   "cell_type": "code",
   "execution_count": 25,
   "metadata": {
    "collapsed": false
   },
   "outputs": [
    {
     "data": {
      "text/plain": [
       "<matplotlib.text.Text at 0x115e82ad0>"
      ]
     },
     "execution_count": 25,
     "metadata": {},
     "output_type": "execute_result"
    },
    {
     "data": {
      "image/png": "[encoded data removed]",
      "text/plain": [
       "<matplotlib.figure.Figure at 0x115d663d0>"
      ]
     },
     "metadata": {},
     "output_type": "display_data"
    }
   ],
   "source": [
    "plt.figure(figsize=(15,5))\n",
    "plt.subplot(121)\n",
    "plt.hist(edible_shrooms_t[21],bins=int(data_ranges[20]),normed=1, align=\"left\")\n",
    "plt.xlim([-0.5,4.5])\n",
    "plt.title('feature 21 - edible')\n",
    "plt.subplot(122)\n",
    "plt.hist(poisonous_shrooms_t[21],bins=int(data_ranges[20]),normed=1, align=\"left\")\n",
    "plt.xlim([-0.5,4.5])\n",
    "plt.title('feature 21 - poisonous')"
   ]
  },
  {
   "cell_type": "markdown",
   "metadata": {},
   "source": [
    "### f22: habitat"
   ]
  },
  {
   "cell_type": "code",
   "execution_count": 26,
   "metadata": {
    "collapsed": false
   },
   "outputs": [
    {
     "data": {
      "text/plain": [
       "<matplotlib.text.Text at 0x1162cdc50>"
      ]
     },
     "execution_count": 26,
     "metadata": {},
     "output_type": "execute_result"
    },
    {
     "data": {
      "image/png": "[encoded data removed]",
      "text/plain": [
       "<matplotlib.figure.Figure at 0x11392d1d0>"
      ]
     },
     "metadata": {},
     "output_type": "display_data"
    }
   ],
   "source": [
    "plt.figure(figsize=(15,5))\n",
    "plt.subplot(121)\n",
    "plt.hist(edible_shrooms_t[22],bins=int(data_ranges[21]),normed=1, align=\"left\")\n",
    "plt.xlim([-0.5,5.5])\n",
    "plt.title('feature 22 - edible')\n",
    "plt.subplot(122)\n",
    "plt.hist(poisonous_shrooms_t[22],bins=int(data_ranges[21]),normed=1, align=\"left\")\n",
    "plt.xlim([-0.5,5.5])\n",
    "plt.title('feature 22 - poisonous')"
   ]
  },
  {
   "cell_type": "markdown",
   "metadata": {},
   "source": [
    "## Step 2: Fit a Naive Bayes classifier to the data."
   ]
  },
  {
   "cell_type": "markdown",
   "metadata": {},
   "source": [
    "### Naive Bayes Classifier"
   ]
  },
  {
   "cell_type": "code",
   "execution_count": 15,
   "metadata": {
    "collapsed": false
   },
   "outputs": [],
   "source": [
    "class NaiveBayesClassifier:\n",
    "    def __init__(self, alpha=1.1):\n",
    "        self.alpha = alpha\n",
    "        self.p1 = None\n",
    "        self.p0 = None\n",
    "        self.feat_given_p_shrooms_dist = []\n",
    "        self.feat_given_e_shrooms_dist = []\n",
    "        self.p_shrooms = None\n",
    "        self.e_shrooms = None\n",
    "        self.data_range = []\n",
    "        self.prediction = []\n",
    "        \n",
    "    def MAPEstimateFeatures(self, data, num):\n",
    "        \"\"\"\n",
    "        MAP Estimate based on the Dirichlet Multinomial Formula for Features or Data\n",
    "        \"\"\"\n",
    "        l = []\n",
    "        N = len(data) # 6499\n",
    "        k = self.data_range.shape[0] # 22\n",
    "        for i in range(self.data_range[num] + 1):\n",
    "            Nk = len([j for j in data if j[0] == i])\n",
    "            theta_k = float(Nk + self.alpha - 1)/(N + k*self.alpha - k)\n",
    "            l.append(theta_k)\n",
    "        return tuple(l)\n",
    "    \n",
    "    def MAPEstimateLabels(self, data):\n",
    "        \"\"\"\n",
    "        MAP Estimate based on the Dirichlet Multinomial Formula for Labels or Classes\n",
    "        \"\"\"\n",
    "        l = []\n",
    "        N = len(data) # 6499\n",
    "        k = 2\n",
    "        for i in range(int(data.max(axis=0)) + 1):\n",
    "            Nk = len([j for j in data_train if j[0] == i])\n",
    "            theta_k = float(Nk + self.alpha - 1)/(N + k*self.alpha - k)\n",
    "            l.append(theta_k)\n",
    "        return tuple(l)\n",
    "    \n",
    "    def train(self, data_train):\n",
    "        \"\"\"\n",
    "        Trains the Naive Bayes Classifier using MAP Estimate for the priors and likelihoods\n",
    "        \"\"\"\n",
    "        # Grabbing the maximum numbers of features values per feature\n",
    "        self.data_range = data_train[:,:].max(axis=0)\n",
    "        \n",
    "        # Splitting the training data into a list of posionous mushrooms\n",
    "        self.p_shrooms = np.array([row for row in data_train if row[0] == 0])\n",
    "        \n",
    "        # Splitting the training data into a list of edible mushrooms\n",
    "        self.e_shrooms = np.array([row for row in data_train if row[0] == 1])\n",
    "        \n",
    "        # Finding the priors for mushroom is poisonous and mushroom is edible\n",
    "        self.p0, self.p1 = self.MAPEstimateLabels(data_train[:,0:1])\n",
    "        \n",
    "        # Finding the likelihood distributions of features given the mushroom is poisonous\n",
    "        for i in range(1, self.p_shrooms.shape[1]):\n",
    "            #print self.p_shrooms[:,i:i+1]\n",
    "            t = self.MAPEstimateFeatures(self.p_shrooms[:,i:i+1], i)\n",
    "            self.feat_given_p_shrooms_dist.append(t)\n",
    "            \n",
    "        # Finding the likelihood distributions of features given the mushroom is edible\n",
    "        for i in range(1, self.e_shrooms.shape[1]):\n",
    "            t = self.MAPEstimateFeatures(self.e_shrooms[:,i:i+1], i)\n",
    "            self.feat_given_e_shrooms_dist.append(t)\n",
    "        \n",
    "    def predict(self, data_test):\n",
    "        \"\"\"\n",
    "        Predicts the new dataset based on the original trained model.\n",
    "        \"\"\"\n",
    "        predictions = []\n",
    "        for i in data_test:\n",
    "            l0 = 0 # likelihood for E = 0\n",
    "            l1 = 0 # likelihood for E = 1\n",
    "            lp0 = None # likelihood * prior\n",
    "            lp1 = None # likelihood * prior\n",
    "            final_prob = 0\n",
    "            \n",
    "            for j in range(len(i)):\n",
    "                # Finding the likelihood for mushroom is poisonous\n",
    "                l0 = l0 + np.log(self.feat_given_p_shrooms_dist[j][i[j]])\n",
    "                \n",
    "                 # Finding the likelihood for mushroom is poisonous\n",
    "                l1 = l1 + np.log(self.feat_given_e_shrooms_dist[j][i[j]])\n",
    "                \n",
    "            # Calculating the likelihood multiply prior where mushroom is poisonous\n",
    "            lp0 = exp(l0 + np.log(self.p0))\n",
    "            \n",
    "            # Calculating the likelihood multiply prior where mushroom is edible\n",
    "            lp1 = exp(l1 + np.log(self.p1))\n",
    "            \n",
    "            # Calculating the posterior probability from likelihood, prior and evidence\n",
    "            #final_prob = np.exp(lp1 - (np.log(exp(lp1 - max(lp1, lp0)) + exp(lp0 - max(lp1, lp0))) + max(lp1, lp0))) # not logged\n",
    "            final_prob = (lp1 - (np.log(exp(lp1 - max(lp1, lp0)) + exp(lp0 - max(lp1, lp0))) + max(lp1, lp0))) # logged\n",
    "\n",
    "            # Appending to the final probabily list\n",
    "            predictions.append(final_prob)\n",
    "        return predictions\n",
    "            "
   ]
  },
  {
   "cell_type": "markdown",
   "metadata": {},
   "source": [
    "### Testing set accuracy"
   ]
  },
  {
   "cell_type": "code",
   "execution_count": 13,
   "metadata": {
    "collapsed": false
   },
   "outputs": [
    {
     "name": "stderr",
     "output_type": "stream",
     "text": [
      "/Users/chensteven/anaconda/lib/python2.7/site-packages/ipykernel/__main__.py:83: RuntimeWarning: divide by zero encountered in log\n",
      "/Users/chensteven/anaconda/lib/python2.7/site-packages/ipykernel/__main__.py:80: RuntimeWarning: divide by zero encountered in log\n"
     ]
    }
   ],
   "source": [
    "r = np.arange(1, 2.1, 0.1)\n",
    "test_accuracy = []\n",
    "test_alpha = []\n",
    "for i in r:\n",
    "    nb = NaiveBayesClassifier(alpha=i)\n",
    "    nb.train(data_train)\n",
    "    predictions = nb.predict(data_test[:,1:])\n",
    "    #predictions_in_01 = [1 if j >= (1/2.0) else 0 for j in predictions] # not logged\n",
    "    predictions_in_01 = [1 if j >= (log(0.5)) else 0 for j in predictions] # logged\n",
    "    correct = 0\n",
    "    for k in range(len(data_test[:,0:1])):\n",
    "        if predictions_in_01[k] == data_test[:,0:1][k][0]:\n",
    "            correct = correct + 1\n",
    "    accuracy = float(correct) / data_test.shape[0]\n",
    "    test_alpha.append(i)\n",
    "    test_accuracy.append(accuracy)"
   ]
  },
  {
   "cell_type": "code",
   "execution_count": 14,
   "metadata": {
    "collapsed": false
   },
   "outputs": [
    {
     "data": {
      "text/plain": [
       "[(0.46044864226682408,\n",
       "  0.093565525383707202,\n",
       "  0.0067886658795749703,\n",
       "  0.37868949232585597,\n",
       "  0.055194805194805192,\n",
       "  0.00029515938606847723),\n",
       " (0.27154663518299882,\n",
       "  0.35537190082644626,\n",
       "  0.36717827626918537,\n",
       "  0.00029515938606847723),\n",
       " (0.30047225501770958,\n",
       "  0.097992916174734351,\n",
       "  0.17443919716646988,\n",
       "  0.23671782762691854,\n",
       "  0.14669421487603307,\n",
       "  0.013282172373081463,\n",
       "  0.010920897284533649,\n",
       "  0.0041322314049586778,\n",
       "  0.0079693034238488784,\n",
       "  0.0035419126328217238),\n",
       " (0.65318772136953951, 0.34061393152302244),\n",
       " (0.00029515938606847723,\n",
       "  0.099468713105076739,\n",
       "  0.095336481700118061,\n",
       "  0.79929161747343569,\n",
       "  0.00029515938606847723,\n",
       "  0.00029515938606847723,\n",
       "  0.00029515938606847723,\n",
       "  0.00029515938606847723,\n",
       "  0.00029515938606847723),\n",
       " (0.94893742621015353, 0.044864226682408498),\n",
       " (0.71074380165289253, 0.28305785123966942),\n",
       " (0.069362455726092093, 0.92443919716646994),\n",
       " (0.081168831168831168,\n",
       "  0.22461629279811099,\n",
       "  0.059031877213695398,\n",
       "  0.20159386068476978,\n",
       "  0.22284533648170013,\n",
       "  0.048110979929161746,\n",
       "  0.10596221959858323,\n",
       "  0.021546635182998819,\n",
       "  0.00029515938606847723,\n",
       "  0.00029515938606847723,\n",
       "  0.016233766233766232,\n",
       "  0.015053128689492325),\n",
       " (0.3807556080283353, 0.61304604486422665),\n",
       " (0.20336481700118064,\n",
       "  0.12603305785123967,\n",
       "  0.45365997638724914,\n",
       "  0.044864226682408498,\n",
       "  0.1667650531286895),\n",
       " (0.86157024793388426,\n",
       "  0.097697756788665879,\n",
       "  0.031582054309327035,\n",
       "  0.0035419126328217238),\n",
       " (0.80696576151121602,\n",
       "  0.10537190082644628,\n",
       "  0.048110979929161746,\n",
       "  0.033943329397874852),\n",
       " (0.65348288075560801,\n",
       "  0.13754427390791027,\n",
       "  0.13282172373081463,\n",
       "  0.0035419126328217238,\n",
       "  0.00029515938606847723,\n",
       "  0.022727272727272728,\n",
       "  0.044864226682408498,\n",
       "  0.00029515938606847723,\n",
       "  0.00029515938606847723),\n",
       " (0.64079102715466352,\n",
       "  0.13223140495867769,\n",
       "  0.13931523022432113,\n",
       "  0.00029515938606847723,\n",
       "  0.015053128689492325,\n",
       "  0.022727272727272728,\n",
       "  0.00029515938606847723,\n",
       "  0.044864226682408498,\n",
       "  0.00029515938606847723),\n",
       " (0.99350649350649356,),\n",
       " (0.94893742621015353,\n",
       "  0.023907910271546637,\n",
       "  0.021251475796930343,\n",
       "  0.00029515938606847723),\n",
       " (0.87308146399055486, 0.12072018890200709, 0.00029515938606847723),\n",
       " (0.74557260920897284,\n",
       "  0.23671782762691854,\n",
       "  0.00029515938606847723,\n",
       "  0.011806375442739079,\n",
       "  0.00029515938606847723),\n",
       " (0.39138134592680046,\n",
       "  0.41263282172373084,\n",
       "  0.012396694214876033,\n",
       "  0.011806375442739079,\n",
       "  0.13223140495867769,\n",
       "  0.00029515938606847723,\n",
       "  0.010330578512396695,\n",
       "  0.012691853600944511,\n",
       "  0.012101534828807556),\n",
       " (0.20867768595041322,\n",
       "  0.097697756788665879,\n",
       "  0.089433293978748524,\n",
       "  0.2857142857142857,\n",
       "  0.2476387249114522,\n",
       "  0.065820543093270373),\n",
       " (0.022432113341204249,\n",
       "  0.33087367178276267,\n",
       "  0.064049586776859499,\n",
       "  0.44510035419126326,\n",
       "  0.032172373081463992,\n",
       "  0.044273907910271547,\n",
       "  0.056375442739079101)]"
      ]
     },
     "execution_count": 14,
     "metadata": {},
     "output_type": "execute_result"
    }
   ],
   "source": [
    "nb.feat_given_e_shrooms_dist"
   ]
  },
  {
   "cell_type": "markdown",
   "metadata": {},
   "source": [
    "### Training set Accuracy"
   ]
  },
  {
   "cell_type": "code",
   "execution_count": 25,
   "metadata": {
    "collapsed": false,
    "scrolled": false
   },
   "outputs": [
    {
     "name": "stderr",
     "output_type": "stream",
     "text": [
      "/Users/chensteven/anaconda/lib/python2.7/site-packages/ipykernel/__main__.py:83: RuntimeWarning: divide by zero encountered in log\n",
      "/Users/chensteven/anaconda/lib/python2.7/site-packages/ipykernel/__main__.py:80: RuntimeWarning: divide by zero encountered in log\n"
     ]
    }
   ],
   "source": [
    "r = np.arange(1, 2.1, 0.1)\n",
    "train_accuracy = []\n",
    "train_alpha = []\n",
    "for i in r:\n",
    "    nb = NaiveBayesClassifier(alpha=i)\n",
    "    nb.train(data_train)\n",
    "    predictions = nb.predict(data_train[:,1:])\n",
    "    #predictions_in_01 = [1 if j >= (1/2.0) else 0 for j in predictions] # not logged\n",
    "    predictions_in_01 = [1 if j >= (log(0.5)) else 0 for j in predictions] # logged\n",
    "    correct = 0\n",
    "    for k in range(len(data_train[:,0:1])):\n",
    "        if predictions_in_01[k] == data_train[:,0:1][k][0]:\n",
    "            correct = correct + 1\n",
    "    accuracy = float(correct) / data_train.shape[0]\n",
    "    # Accuracy when alpha = 2\n",
    "    train_alpha.append(i)\n",
    "    train_accuracy.append(accuracy)"
   ]
  },
  {
   "cell_type": "markdown",
   "metadata": {},
   "source": [
    "### Plot of Accuracy"
   ]
  },
  {
   "cell_type": "code",
   "execution_count": 30,
   "metadata": {
    "collapsed": false,
    "scrolled": true
   },
   "outputs": [
    {
     "data": {
      "text/plain": [
       "<matplotlib.legend.Legend at 0x116783d90>"
      ]
     },
     "execution_count": 30,
     "metadata": {},
     "output_type": "execute_result"
    },
    {
     "data": {
      "image/png": "[encoded data removed]",
      "text/plain": [
       "<matplotlib.figure.Figure at 0x116692950>"
      ]
     },
     "metadata": {},
     "output_type": "display_data"
    }
   ],
   "source": [
    "plt.figure(figsize=(9,6))\n",
    "plt.plot(train_alpha, train_accuracy, test_alpha, test_accuracy)\n",
    "plt.xlim(1, 2)\n",
    "plt.xlabel('alpha')\n",
    "plt.ylabel('accuracy')\n",
    "plt.title('nb classifier')\n",
    "blue_patch = mpatches.Patch(color='blue', label='Train Set')\n",
    "green_patch = mpatches.Patch(color='green', label='Test Set')\n",
    "plt.legend(handles=[blue_patch, green_patch])"
   ]
  },
  {
   "cell_type": "markdown",
   "metadata": {},
   "source": [
    "## Step 3: Inspect the model"
   ]
  },
  {
   "cell_type": "code",
   "execution_count": 30,
   "metadata": {
    "collapsed": false
   },
   "outputs": [],
   "source": [
    "diff_norm = []\n",
    "diff_abs = []\n",
    "for i in range(len(nb.feat_given_p_shrooms_dist)):\n",
    "    for j in range(len(nb.feat_given_e_shrooms_dist[i])):\n",
    "        diff = np.log(nb.feat_given_e_shrooms_dist[i][j]) - np.log(nb.feat_given_p_shrooms_dist[i][j])\n",
    "        diff_norm.append((diff, i+1, j))\n",
    "        diff_abs.append((abs(diff), i+1, j))\n",
    "diff_norm.sort()\n",
    "diff_abs.sort()"
   ]
  },
  {
   "cell_type": "code",
   "execution_count": 34,
   "metadata": {
    "collapsed": false
   },
   "outputs": [
    {
     "data": {
      "text/plain": [
       "[(-7.5351274018504792, 5, 4),\n",
       " (-7.3105501585344213, 9, 8),\n",
       " (-7.0309652963152596, 19, 2),\n",
       " (-6.2275965527995076, 5, 6),\n",
       " (-6.1887147652553001, 5, 7),\n",
       " (-5.9342487428120494, 15, 3),\n",
       " (-5.9170563422716764, 14, 4),\n",
       " (-5.3739224752730284, 5, 0),\n",
       " (-5.0610501539926886, 5, 5),\n",
       " (-4.0959692579491014, 20, 5),\n",
       " (-3.5332235770047524, 20, 3),\n",
       " (-3.5046047716990989, 5, 8),\n",
       " (-3.5046047716990989, 14, 7),\n",
       " (-3.5046047716990989, 15, 8),\n",
       " (-3.5046047716990989, 18, 2),\n",
       " (-3.5046047716990989, 19, 4),\n",
       " (-3.4828647850626937, 14, 3),\n",
       " (-3.066349840767943, 9, 9),\n",
       " (-2.8911059816141922, 12, 2),\n",
       " (-2.7873258310592783, 13, 3),\n",
       " (-2.7786677683161622, 15, 6),\n",
       " (-2.092587754979311, 8, 0),\n",
       " (-2.0922258856618794, 22, 4),\n",
       " (-2.0603703541334433, 15, 4),\n",
       " (-2.0165277162692652, 14, 8),\n",
       " (-2.0165277162692652, 17, 3),\n",
       " (-1.6800554796480522, 1, 5),\n",
       " (-1.4569119283338425, 2, 3),\n",
       " (-1.2513308833217538, 20, 4),\n",
       " (-1.0869917576450909, 22, 0),\n",
       " (-1.0648698405578205, 3, 6),\n",
       " (-1.0521150461108855, 1, 4),\n",
       " (-1.035990561988988, 9, 5),\n",
       " (-0.99008907575819283, 11, 4),\n",
       " (-0.97743952765925646, 22, 6),\n",
       " (-0.9347446826264747, 21, 3),\n",
       " (-0.91855297942383629, 15, 1),\n",
       " (-0.90269747145166157, 4, 1),\n",
       " (-0.89674043046469842, 14, 2),\n",
       " (-0.79574779362694947, 9, 2),\n",
       " (-0.64403155743729112, 19, 1),\n",
       " (-0.58625089254804719, 3, 1),\n",
       " (-0.46864769683459961, 3, 5),\n",
       " (-0.42022534392959332, 3, 4),\n",
       " (-0.3063066775917786, 7, 0),\n",
       " (-0.26822032024302733, 2, 0),\n",
       " (-0.23468568369855758, 10, 0),\n",
       " (-0.22571701371579733, 2, 1),\n",
       " (-0.10124579354466554, 18, 0),\n",
       " (-0.043503674211115645, 17, 0),\n",
       " (-0.040302647150036792, 6, 0),\n",
       " (-0.034852165813289537, 11, 2),\n",
       " (-0.029243328782770472, 1, 3),\n",
       " (0.00047835446977699536, 16, 0),\n",
       " (0.062181492898894075, 1, 0),\n",
       " (0.13355192910587133, 3, 0),\n",
       " (0.15815275730777123, 3, 3),\n",
       " (0.18035301758111816, 10, 1),\n",
       " (0.22539584477835461, 9, 3),\n",
       " (0.31645017575449486, 22, 3),\n",
       " (0.40968925608736417, 21, 4),\n",
       " (0.41376170765122139, 14, 0),\n",
       " (0.42466843854938274, 15, 0),\n",
       " (0.46837893351873383, 12, 3),\n",
       " (0.58488840812676868, 22, 1),\n",
       " (0.64694091502567308, 2, 2),\n",
       " (0.72976134136285364, 13, 0),\n",
       " (0.76283448724527436, 8, 1),\n",
       " (0.79442269407412647, 12, 0),\n",
       " (0.8473666451665347, 3, 2),\n",
       " (0.85920131686125401, 21, 0),\n",
       " (0.9226342057963306, 3, 8),\n",
       " (0.92878807137070796, 13, 2),\n",
       " (1.0463438601223523, 9, 10),\n",
       " (1.068061714051042, 12, 1),\n",
       " (1.1066378487732695, 13, 1),\n",
       " (1.1613187957406295, 11, 0),\n",
       " (1.2831006234713245, 9, 4),\n",
       " (1.3180549163109048, 19, 0),\n",
       " (1.4494018661204646, 4, 0),\n",
       " (1.5571694838883436, 9, 0),\n",
       " (1.5753540885526029, 21, 5),\n",
       " (1.9098184506904334, 20, 0),\n",
       " (1.917745898093699, 18, 1),\n",
       " (1.9770752761513024, 22, 2),\n",
       " (2.0506980469369411, 1, 1),\n",
       " (2.0662348816792218, 20, 1),\n",
       " (2.1200496095761072, 6, 1),\n",
       " (2.1945679381807111, 9, 1),\n",
       " (2.257356759784912, 9, 6),\n",
       " (2.3179366931912782, 7, 1),\n",
       " (2.3752485333704469, 11, 1),\n",
       " (2.4142890825740464, 3, 9),\n",
       " (2.5684397624013044, 3, 7),\n",
       " (3.0648766487151962, 1, 2),\n",
       " (3.3224885603013621, 5, 3),\n",
       " (3.4847304942754596, 20, 6),\n",
       " (3.6182618868999823, 19, 3),\n",
       " (3.6429544994903535, 20, 8),\n",
       " (3.6670520510694145, 20, 2),\n",
       " (3.6905825484796084, 20, 7),\n",
       " (3.8612080655103718, 9, 11),\n",
       " (4.2060485518021018, 17, 2),\n",
       " (4.2198418739344374, 9, 7),\n",
       " (4.2731878546397297, 14, 5),\n",
       " (4.2731878546397297, 15, 5),\n",
       " (4.3238315874584856, 17, 1),\n",
       " (4.940017726882302, 22, 5),\n",
       " (4.9532629536323221, 11, 3),\n",
       " (4.9532629536323221, 14, 6),\n",
       " (4.9532629536323221, 15, 7),\n",
       " (5.6431152382954153, 21, 2),\n",
       " (5.7070347560087029, 5, 2),\n",
       " (5.7315008081631085, 21, 1),\n",
       " (5.7494653631384081, 5, 1),\n",
       " (6.073568066911692, 14, 1),\n",
       " (6.0863614183716015, 15, 2)]"
      ]
     },
     "execution_count": 34,
     "metadata": {},
     "output_type": "execute_result"
    }
   ],
   "source": [
    "diff_norm # 3-tuple where (difference, feature, feature value)"
   ]
  },
  {
   "cell_type": "code",
   "execution_count": 35,
   "metadata": {
    "collapsed": false
   },
   "outputs": [
    {
     "data": {
      "text/plain": [
       "[(0.00047835446977699536, 16, 0),\n",
       " (0.029243328782770472, 1, 3),\n",
       " (0.034852165813289537, 11, 2),\n",
       " (0.040302647150036792, 6, 0),\n",
       " (0.043503674211115645, 17, 0),\n",
       " (0.062181492898894075, 1, 0),\n",
       " (0.10124579354466554, 18, 0),\n",
       " (0.13355192910587133, 3, 0),\n",
       " (0.15815275730777123, 3, 3),\n",
       " (0.18035301758111816, 10, 1),\n",
       " (0.22539584477835461, 9, 3),\n",
       " (0.22571701371579733, 2, 1),\n",
       " (0.23468568369855758, 10, 0),\n",
       " (0.26822032024302733, 2, 0),\n",
       " (0.3063066775917786, 7, 0),\n",
       " (0.31645017575449486, 22, 3),\n",
       " (0.40968925608736417, 21, 4),\n",
       " (0.41376170765122139, 14, 0),\n",
       " (0.42022534392959332, 3, 4),\n",
       " (0.42466843854938274, 15, 0),\n",
       " (0.46837893351873383, 12, 3),\n",
       " (0.46864769683459961, 3, 5),\n",
       " (0.58488840812676868, 22, 1),\n",
       " (0.58625089254804719, 3, 1),\n",
       " (0.64403155743729112, 19, 1),\n",
       " (0.64694091502567308, 2, 2),\n",
       " (0.72976134136285364, 13, 0),\n",
       " (0.76283448724527436, 8, 1),\n",
       " (0.79442269407412647, 12, 0),\n",
       " (0.79574779362694947, 9, 2),\n",
       " (0.8473666451665347, 3, 2),\n",
       " (0.85920131686125401, 21, 0),\n",
       " (0.89674043046469842, 14, 2),\n",
       " (0.90269747145166157, 4, 1),\n",
       " (0.91855297942383629, 15, 1),\n",
       " (0.9226342057963306, 3, 8),\n",
       " (0.92878807137070796, 13, 2),\n",
       " (0.9347446826264747, 21, 3),\n",
       " (0.97743952765925646, 22, 6),\n",
       " (0.99008907575819283, 11, 4),\n",
       " (1.035990561988988, 9, 5),\n",
       " (1.0463438601223523, 9, 10),\n",
       " (1.0521150461108855, 1, 4),\n",
       " (1.0648698405578205, 3, 6),\n",
       " (1.068061714051042, 12, 1),\n",
       " (1.0869917576450909, 22, 0),\n",
       " (1.1066378487732695, 13, 1),\n",
       " (1.1613187957406295, 11, 0),\n",
       " (1.2513308833217538, 20, 4),\n",
       " (1.2831006234713245, 9, 4),\n",
       " (1.3180549163109048, 19, 0),\n",
       " (1.4494018661204646, 4, 0),\n",
       " (1.4569119283338425, 2, 3),\n",
       " (1.5571694838883436, 9, 0),\n",
       " (1.5753540885526029, 21, 5),\n",
       " (1.6800554796480522, 1, 5),\n",
       " (1.9098184506904334, 20, 0),\n",
       " (1.917745898093699, 18, 1),\n",
       " (1.9770752761513024, 22, 2),\n",
       " (2.0165277162692652, 14, 8),\n",
       " (2.0165277162692652, 17, 3),\n",
       " (2.0506980469369411, 1, 1),\n",
       " (2.0603703541334433, 15, 4),\n",
       " (2.0662348816792218, 20, 1),\n",
       " (2.0922258856618794, 22, 4),\n",
       " (2.092587754979311, 8, 0),\n",
       " (2.1200496095761072, 6, 1),\n",
       " (2.1945679381807111, 9, 1),\n",
       " (2.257356759784912, 9, 6),\n",
       " (2.3179366931912782, 7, 1),\n",
       " (2.3752485333704469, 11, 1),\n",
       " (2.4142890825740464, 3, 9),\n",
       " (2.5684397624013044, 3, 7),\n",
       " (2.7786677683161622, 15, 6),\n",
       " (2.7873258310592783, 13, 3),\n",
       " (2.8911059816141922, 12, 2),\n",
       " (3.0648766487151962, 1, 2),\n",
       " (3.066349840767943, 9, 9),\n",
       " (3.3224885603013621, 5, 3),\n",
       " (3.4828647850626937, 14, 3),\n",
       " (3.4847304942754596, 20, 6),\n",
       " (3.5046047716990989, 5, 8),\n",
       " (3.5046047716990989, 14, 7),\n",
       " (3.5046047716990989, 15, 8),\n",
       " (3.5046047716990989, 18, 2),\n",
       " (3.5046047716990989, 19, 4),\n",
       " (3.5332235770047524, 20, 3),\n",
       " (3.6182618868999823, 19, 3),\n",
       " (3.6429544994903535, 20, 8),\n",
       " (3.6670520510694145, 20, 2),\n",
       " (3.6905825484796084, 20, 7),\n",
       " (3.8612080655103718, 9, 11),\n",
       " (4.0959692579491014, 20, 5),\n",
       " (4.2060485518021018, 17, 2),\n",
       " (4.2198418739344374, 9, 7),\n",
       " (4.2731878546397297, 14, 5),\n",
       " (4.2731878546397297, 15, 5),\n",
       " (4.3238315874584856, 17, 1),\n",
       " (4.940017726882302, 22, 5),\n",
       " (4.9532629536323221, 11, 3),\n",
       " (4.9532629536323221, 14, 6),\n",
       " (4.9532629536323221, 15, 7),\n",
       " (5.0610501539926886, 5, 5),\n",
       " (5.3739224752730284, 5, 0),\n",
       " (5.6431152382954153, 21, 2),\n",
       " (5.7070347560087029, 5, 2),\n",
       " (5.7315008081631085, 21, 1),\n",
       " (5.7494653631384081, 5, 1),\n",
       " (5.9170563422716764, 14, 4),\n",
       " (5.9342487428120494, 15, 3),\n",
       " (6.073568066911692, 14, 1),\n",
       " (6.0863614183716015, 15, 2),\n",
       " (6.1887147652553001, 5, 7),\n",
       " (6.2275965527995076, 5, 6),\n",
       " (7.0309652963152596, 19, 2),\n",
       " (7.3105501585344213, 9, 8),\n",
       " (7.5351274018504792, 5, 4)]"
      ]
     },
     "execution_count": 35,
     "metadata": {},
     "output_type": "execute_result"
    }
   ],
   "source": [
    "diff_abs # 3-tuple where (difference, feature, feature value)"
   ]
  },
  {
   "cell_type": "code",
   "execution_count": null,
   "metadata": {
    "collapsed": true
   },
   "outputs": [],
   "source": []
  }
 ],
 "metadata": {
  "anaconda-cloud": {},
  "kernelspec": {
   "display_name": "Python [Root]",
   "language": "python",
   "name": "Python [Root]"
  },
  "language_info": {
   "codemirror_mode": {
    "name": "ipython",
    "version": 2
   },
   "file_extension": ".py",
   "mimetype": "text/x-python",
   "name": "python",
   "nbconvert_exporter": "python",
   "pygments_lexer": "ipython2",
   "version": "2.7.12"
  }
 },
 "nbformat": 4,
 "nbformat_minor": 0
}
